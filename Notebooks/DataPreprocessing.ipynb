{
  "nbformat": 4,
  "nbformat_minor": 0,
  "metadata": {
    "colab": {
      "provenance": []
    },
    "kernelspec": {
      "name": "python3",
      "display_name": "Python 3"
    },
    "language_info": {
      "name": "python"
    }
  },
  "cells": [
    {
      "cell_type": "code",
      "execution_count": 10,
      "metadata": {
        "id": "MN3O90fTAEiJ"
      },
      "outputs": [],
      "source": [
        "import pandas as pd\n",
        "data=pd.read_csv('/content/merged_data.csv')"
      ]
    },
    {
      "cell_type": "code",
      "source": [
        "from sklearn.model_selection import train_test_split\n",
        "from sklearn.preprocessing import StandardScaler\n",
        "\n",
        "# Séparation des fonctionnalités et de la variable cible\n",
        "X = data.drop(columns=[\"label\"])\n",
        "y = data[\"label\"]\n"
      ],
      "metadata": {
        "id": "ewGyI3IWBmhf"
      },
      "execution_count": 11,
      "outputs": []
    },
    {
      "cell_type": "code",
      "source": [
        "\n",
        "# Fractionnement des données en ensembles d'entraînement et de test\n",
        "X_train, X_test, y_train, y_test = train_test_split(X, y, test_size=0.2, random_state=42)\n"
      ],
      "metadata": {
        "id": "ydfoxgvXDRdN"
      },
      "execution_count": 12,
      "outputs": []
    },
    {
      "cell_type": "code",
      "source": [
        "# Liste des colonnes numériques\n",
        "numeric_columns = X_train.select_dtypes(include=['number']).columns\n",
        "\n",
        "# Exclure les colonnes non numériques\n",
        "X_train_numeric = X_train[numeric_columns]\n",
        "X_test_numeric = X_test[numeric_columns]"
      ],
      "metadata": {
        "id": "YixGsqVaDxKy"
      },
      "execution_count": 13,
      "outputs": []
    },
    {
      "cell_type": "code",
      "source": [
        "# Normalisation des données\n",
        "scaler = StandardScaler()\n",
        "X_train_scaled = scaler.fit_transform(X_train_numeric)\n",
        "X_test_scaled = scaler.transform(X_test_numeric)"
      ],
      "metadata": {
        "id": "tdGKPx5VDRju"
      },
      "execution_count": 14,
      "outputs": []
    },
    {
      "cell_type": "code",
      "source": [
        "from sklearn.feature_selection import SelectKBest, f_classif\n",
        "\n",
        "# Sélection des caractéristiques les plus importantes\n",
        "selector = SelectKBest(score_func=f_classif, k=20)  # Sélectionnez les 10 meilleures caractéristiques\n",
        "X_train_selected = selector.fit_transform(X_train_scaled, y_train)\n",
        "X_test_selected = selector.transform(X_test_scaled)\n",
        "\n",
        "# Afficher les noms des caractéristiques sélectionnées\n",
        "selected_features = X_train.columns[selector.get_support(indices=True)]\n",
        "print(\"Caractéristiques sélectionnées:\", selected_features)\n"
      ],
      "metadata": {
        "colab": {
          "base_uri": "https://localhost:8080/"
        },
        "id": "Ux2ZUIt5Dmdd",
        "outputId": "ce51ce50-d003-40a7-95e5-a254246c1a01"
      },
      "execution_count": 15,
      "outputs": [
        {
          "output_type": "stream",
          "name": "stdout",
          "text": [
            "Caractéristiques sélectionnées: Index(['DFA_channel1', 'Fisher_Information_channel1', 'PFD_channel1',\n",
            "       'SVD_Entropy_channel1', 'variance_channel1', 'std_deviation_channel1',\n",
            "       'fft_variance_channel1', 'fft_std_deviation_channel1',\n",
            "       'fft2_variance_channel1', 'zero_crossing_rate_channel1',\n",
            "       'complexity_channel1', 'DFA_channel2', 'PFD_channel2',\n",
            "       'SVD_Entropy_channel2', 'variance_channel2', 'std_deviation_channel2',\n",
            "       'mean_channel2', 'fft_variance_channel2', 'zero_crossing_rate_channel2',\n",
            "       'complexity_channel2'],\n",
            "      dtype='object')\n"
          ]
        }
      ]
    },
    {
      "cell_type": "code",
      "source": [],
      "metadata": {
        "id": "wj7eBHBcEEz2"
      },
      "execution_count": 15,
      "outputs": []
    }
  ]
}